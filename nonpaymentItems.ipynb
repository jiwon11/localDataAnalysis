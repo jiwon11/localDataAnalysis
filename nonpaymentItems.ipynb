{
 "cells": [
  {
   "cell_type": "code",
   "execution_count": 7,
   "metadata": {},
   "outputs": [
    {
     "name": "stdout",
     "output_type": "stream",
     "text": [
      "200\n"
     ]
    }
   ],
   "source": [
    "import requests \n",
    "import pandas as pd\n",
    "import xmltodict\n",
    "import json\n",
    "\n",
    "URL = 'http://apis.data.go.kr/B551182/nonPaymentDamtInfoService/getNonPaymentItemHospDtlList?pageNo=1&numOfRows=6000&ServiceKey=0XnAzkR5iFgXoj2TyjdseowDsMtFV%2FMP5D6nrbEY0VQomcjM5gdx9y%2BNrveV2KRE2ar48boNcPXlXxoWWGm%2Bew%3D%3D&clCd=41'\n",
    "response = requests.get(URL)\n",
    "print(response.status_code)"
   ]
  },
  {
   "cell_type": "code",
   "execution_count": 8,
   "metadata": {},
   "outputs": [],
   "source": [
    "tree = xmltodict.parse(response.text)\n",
    "root = json.loads(json.dumps(tree))"
   ]
  },
  {
   "cell_type": "code",
   "execution_count": 9,
   "metadata": {},
   "outputs": [
    {
     "name": "stdout",
     "output_type": "stream",
     "text": [
      "5297\n"
     ]
    }
   ],
   "source": [
    "getNonPaymentItemHospDtlList = root['response']['body']['items']['item']\n",
    "print(len(getNonPaymentItemHospDtlList))"
   ]
  },
  {
   "cell_type": "code",
   "execution_count": 10,
   "metadata": {},
   "outputs": [
    {
     "name": "stdout",
     "output_type": "stream",
     "text": [
      "{'adtEndDd': '99991231', 'adtFrDd': '20200401', 'clCd': '41', 'clCdNm': '치과병원', 'curAmt': '520000', 'npayCd': 'UW607F320', 'npayKorNm': '치과의 보철료/크라운/Gold', 'sgguCd': '110007', 'sgguCdNm': '동대문구', 'sidoCd': '110000', 'sidoCdNm': '서울', 'sno': '10', 'urlAddr': 'www.khudh.or.kr', 'yadmNm': '경희대학교치과병원', 'yadmNpayCdNm': 'GOLD CAST CROWN_A_전체', 'ykiho': 'JDQ4MTg4MSM1MSMkMSMkMCMkNjIkMzgxMzUxIzExIyQxIyQzIyQ3OSQyNjEwMDIjNTEjJDEjJDYjJDgz'}\n"
     ]
    }
   ],
   "source": [
    "print(getNonPaymentItemHospDtlList[0])"
   ]
  },
  {
   "cell_type": "code",
   "execution_count": 11,
   "metadata": {},
   "outputs": [
    {
     "name": "stdout",
     "output_type": "stream",
     "text": [
      "<class 'pandas.core.frame.DataFrame'>\n",
      "RangeIndex: 5297 entries, 0 to 5296\n",
      "Data columns (total 16 columns):\n",
      "adtEndDd        5297 non-null object\n",
      "adtFrDd         5297 non-null object\n",
      "clCd            5297 non-null object\n",
      "clCdNm          5297 non-null object\n",
      "curAmt          5297 non-null object\n",
      "npayCd          5297 non-null object\n",
      "npayKorNm       5297 non-null object\n",
      "sgguCd          5297 non-null object\n",
      "sgguCdNm        5297 non-null object\n",
      "sidoCd          5297 non-null object\n",
      "sidoCdNm        5297 non-null object\n",
      "sno             5297 non-null object\n",
      "urlAddr         5297 non-null object\n",
      "yadmNm          5297 non-null object\n",
      "yadmNpayCdNm    5297 non-null object\n",
      "ykiho           5297 non-null object\n",
      "dtypes: object(16)\n",
      "memory usage: 662.2+ KB\n"
     ]
    }
   ],
   "source": [
    "nonpaymentItems = pd.DataFrame(getNonPaymentItemHospDtlList)\n",
    "nonpaymentItems.info()"
   ]
  },
  {
   "cell_type": "code",
   "execution_count": 12,
   "metadata": {},
   "outputs": [
    {
     "data": {
      "text/plain": [
       "JDQ4MTYyMiM1MSMkMSMkMCMkNjIkMzgxMzUxIzExIyQxIyQzIyQwMyQyNjEyMjIjNjEjJDEjJDQjJDgz    174\n",
       "JDQ4MTg4MSM1MSMkMSMkMCMkNjIkMzgxMzUxIzExIyQxIyQzIyQ3OSQyNjEyMjIjNDEjJDEjJDgjJDgz    113\n",
       "JDQ4MTYyMiM2MSMkMSMkMiMkNjIkMzgxMzUxIzExIyQxIyQzIyQ3OSQyNjEyMjIjODEjJDEjJDIjJDgz    107\n",
       "JDQ4MTYyMiM2MSMkMSMkNiMkNjIkMzgxMzUxIzExIyQxIyQzIyQ3OSQzNjEyMjIjNjEjJDEjJDAjJDgz     88\n",
       "JDQ4MTYyMiM4MSMkMSMkNCMkNjIkMzgxMzUxIzExIyQxIyQzIyQ5OSQ0NjE0ODEjNjEjJDEjJDgjJDgz     80\n",
       "                                                                                   ... \n",
       "JDQ4MTYyMiM4MSMkMSMkNCMkNjIkMzgxMzUxIzExIyQxIyQzIyQ3OSQyNjE4MzIjNDEjJDEjJDgjJDgz      5\n",
       "JDQ4MTg4MSM1MSMkMSMkMCMkNjIkMzgxMzUxIzExIyQxIyQzIyQ4MiQzNjE0ODEjNDEjJDEjJDgjJDgz      4\n",
       "JDQ4MTg4MSM1MSMkMSMkMCMkNjIkMzgxMzUxIzExIyQxIyQ3IyQ3MiQzNjEyMjIjNzEjJDEjJDgjJDgz      4\n",
       "JDQ4MTYyMiM2MSMkMSMkMiMkNjIkMzgxMzUxIzExIyQxIyQzIyQ3OSQzNjE0ODEjNjEjJDEjJDAjJDgz      2\n",
       "JDQ4MTYyMiM3MSMkMSMkMCMkNjIkMzgxMzUxIzExIyQxIyQzIyQ5OSQyNjEyMjIjNDEjJDEjJDQjJDgz      1\n",
       "Name: ykiho, Length: 230, dtype: int64"
      ]
     },
     "execution_count": 12,
     "metadata": {},
     "output_type": "execute_result"
    }
   ],
   "source": [
    "nonpaymentItems['ykiho'].value_counts()"
   ]
  },
  {
   "cell_type": "code",
   "execution_count": 13,
   "metadata": {},
   "outputs": [
    {
     "data": {
      "text/html": [
       "<div>\n",
       "<style scoped>\n",
       "    .dataframe tbody tr th:only-of-type {\n",
       "        vertical-align: middle;\n",
       "    }\n",
       "\n",
       "    .dataframe tbody tr th {\n",
       "        vertical-align: top;\n",
       "    }\n",
       "\n",
       "    .dataframe thead th {\n",
       "        text-align: right;\n",
       "    }\n",
       "</style>\n",
       "<table border=\"1\" class=\"dataframe\">\n",
       "  <thead>\n",
       "    <tr style=\"text-align: right;\">\n",
       "      <th></th>\n",
       "      <th>adtEndDd</th>\n",
       "      <th>adtFrDd</th>\n",
       "      <th>clCd</th>\n",
       "      <th>clCdNm</th>\n",
       "      <th>curAmt</th>\n",
       "      <th>npayCd</th>\n",
       "      <th>npayKorNm</th>\n",
       "      <th>sgguCd</th>\n",
       "      <th>sgguCdNm</th>\n",
       "      <th>sidoCd</th>\n",
       "      <th>sidoCdNm</th>\n",
       "      <th>sno</th>\n",
       "      <th>urlAddr</th>\n",
       "      <th>yadmNm</th>\n",
       "      <th>yadmNpayCdNm</th>\n",
       "      <th>ykiho</th>\n",
       "    </tr>\n",
       "  </thead>\n",
       "  <tbody>\n",
       "  </tbody>\n",
       "</table>\n",
       "</div>"
      ],
      "text/plain": [
       "Empty DataFrame\n",
       "Columns: [adtEndDd, adtFrDd, clCd, clCdNm, curAmt, npayCd, npayKorNm, sgguCd, sgguCdNm, sidoCd, sidoCdNm, sno, urlAddr, yadmNm, yadmNpayCdNm, ykiho]\n",
       "Index: []"
      ]
     },
     "execution_count": 13,
     "metadata": {},
     "output_type": "execute_result"
    }
   ],
   "source": [
    "nonpaymentItems[nonpaymentItems['sgguCdNm'].str.contains('영통')]"
   ]
  },
  {
   "cell_type": "code",
   "execution_count": null,
   "metadata": {},
   "outputs": [],
   "source": []
  }
 ],
 "metadata": {
  "kernelspec": {
   "display_name": "Python 3",
   "language": "python",
   "name": "python3"
  },
  "language_info": {
   "codemirror_mode": {
    "name": "ipython",
    "version": 3
   },
   "file_extension": ".py",
   "mimetype": "text/x-python",
   "name": "python",
   "nbconvert_exporter": "python",
   "pygments_lexer": "ipython3",
   "version": "3.7.4"
  }
 },
 "nbformat": 4,
 "nbformat_minor": 4
}
